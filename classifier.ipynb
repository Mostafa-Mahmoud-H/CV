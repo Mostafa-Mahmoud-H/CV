{
 "cells": [
  {
   "cell_type": "code",
   "execution_count": 2,
   "id": "f1b2f5a3",
   "metadata": {},
   "outputs": [
    {
     "name": "stdout",
     "output_type": "stream",
     "text": [
      "INFO: Loading custom classification model...\n"
     ]
    },
    {
     "name": "stderr",
     "output_type": "stream",
     "text": [
      "WARNING:absl:Compiled the loaded model, but the compiled metrics have yet to be built. `model.compile_metrics` will be empty until you train or evaluate the model.\n"
     ]
    },
    {
     "name": "stdout",
     "output_type": "stream",
     "text": [
      "INFO: Custom model loaded successfully.\n"
     ]
    }
   ],
   "source": [
    "# classifier.py (النسخة النهائية والمعدلة)\n",
    "import numpy as np\n",
    "import tensorflow as tf\n",
    "from tensorflow.keras.preprocessing import image\n",
    "from tensorflow.keras.applications.mobilenet_v2 import preprocess_input # <-- إضافة جديدة\n",
    "import os\n",
    "\n",
    "os.environ['TF_CPP_MIN_LOG_LEVEL'] = '2'\n",
    "\n",
    "# --- الإعدادات ---\n",
    "MODEL_PATH = \"C:/Users/ADMIN/Desktop/MyOrganizerProject/my_final_model.h5\"\n",
    "# !!! لا تنس تحديث هذه القائمة بعد إعادة التدريب !!!\n",
    "CLASS_NAMES = ['bike', 'cars', 'cats', 'document', 'dogs', 'flowers', 'horses', 'human']\n",
    "\n",
    "print(\"INFO: Loading custom classification model...\")\n",
    "try:\n",
    "    model = tf.keras.models.load_model(MODEL_PATH)\n",
    "    print(\"INFO: Custom model loaded successfully.\")\n",
    "except Exception as e:\n",
    "    print(f\"ERROR: Could not load the model from '{MODEL_PATH}'. Details: {e}\")\n",
    "    exit()\n",
    "\n",
    "def prepare_image(img_path, target_size=(224, 224)):\n",
    "    \"\"\"تحميل الصورة ومعالجتها بما في ذلك preprocess_input\"\"\"\n",
    "    img = image.load_img(img_path, target_size=target_size)\n",
    "    img_array = image.img_to_array(img)\n",
    "    img_array_expanded = np.expand_dims(img_array, axis=0)\n",
    "    # --- التعديل الجديد: تطبيق المعالجة المسبقة هنا ---\n",
    "    return preprocess_input(img_array_expanded)\n",
    "\n",
    "def classify_image(img_path):\n",
    "    try:\n",
    "        prepared_img = prepare_image(img_path)\n",
    "        predictions = model.predict(prepared_img, verbose=0)\n",
    "        score = tf.nn.softmax(predictions[0])\n",
    "        predicted_class_index = np.argmax(score)\n",
    "        predicted_class_name = CLASS_NAMES[predicted_class_index]\n",
    "        return predicted_class_name\n",
    "    except Exception as e:\n",
    "        print(f\"ERROR: Could not process image '{os.path.basename(img_path)}'. Details: {e}\")\n",
    "        return 'Error_Files'"
   ]
  },
  {
   "cell_type": "code",
   "execution_count": null,
   "id": "1c2b6182",
   "metadata": {},
   "outputs": [],
   "source": []
  }
 ],
 "metadata": {
  "kernelspec": {
   "display_name": "Python 3",
   "language": "python",
   "name": "python3"
  },
  "language_info": {
   "codemirror_mode": {
    "name": "ipython",
    "version": 3
   },
   "file_extension": ".py",
   "mimetype": "text/x-python",
   "name": "python",
   "nbconvert_exporter": "python",
   "pygments_lexer": "ipython3",
   "version": "3.13.5"
  }
 },
 "nbformat": 4,
 "nbformat_minor": 5
}
