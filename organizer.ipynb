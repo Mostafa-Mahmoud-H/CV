{
 "cells": [
  {
   "cell_type": "code",
   "execution_count": 2,
   "id": "7ebda497",
   "metadata": {},
   "outputs": [
    {
     "ename": "ImportError",
     "evalue": "cannot import name 'extract_text_from_image' from 'ocr_processor' (c:\\Users\\ADMIN\\Desktop\\MyOrganizerProject\\ocr_processor.py)",
     "output_type": "error",
     "traceback": [
      "\u001b[31m---------------------------------------------------------------------------\u001b[39m",
      "\u001b[31mImportError\u001b[39m                               Traceback (most recent call last)",
      "\u001b[36mCell\u001b[39m\u001b[36m \u001b[39m\u001b[32mIn[2]\u001b[39m\u001b[32m, line 5\u001b[39m\n\u001b[32m      3\u001b[39m \u001b[38;5;28;01mimport\u001b[39;00m\u001b[38;5;250m \u001b[39m\u001b[34;01mshutil\u001b[39;00m\n\u001b[32m      4\u001b[39m \u001b[38;5;28;01mfrom\u001b[39;00m\u001b[38;5;250m \u001b[39m\u001b[34;01mclassifier\u001b[39;00m\u001b[38;5;250m \u001b[39m\u001b[38;5;28;01mimport\u001b[39;00m classify_image\n\u001b[32m----> \u001b[39m\u001b[32m5\u001b[39m \u001b[38;5;28;01mfrom\u001b[39;00m\u001b[38;5;250m \u001b[39m\u001b[34;01mocr_processor\u001b[39;00m\u001b[38;5;250m \u001b[39m\u001b[38;5;28;01mimport\u001b[39;00m extract_text_from_image, create_safe_filename_from_text \u001b[38;5;66;03m# <-- تم تغيير اسم الدالة هنا\u001b[39;00m\n\u001b[32m      7\u001b[39m \u001b[38;5;66;03m# --- الإعدادات الرئيسية ---\u001b[39;00m\n\u001b[32m      8\u001b[39m INPUT_FOLDER = \u001b[33m'\u001b[39m\u001b[33minput_photos\u001b[39m\u001b[33m'\u001b[39m\n",
      "\u001b[31mImportError\u001b[39m: cannot import name 'extract_text_from_image' from 'ocr_processor' (c:\\Users\\ADMIN\\Desktop\\MyOrganizerProject\\ocr_processor.py)"
     ]
    }
   ],
   "source": [
    "# organizer.py (النسخة النهائية)\n",
    "import os\n",
    "import shutil\n",
    "from classifier import classify_image\n",
    "from ocr_processor import extract_text_from_image, create_safe_filename_from_text # <-- تم تغيير اسم الدالة هنا\n",
    "\n",
    "# --- الإعدادات الرئيسية ---\n",
    "INPUT_FOLDER = 'input_photos'\n",
    "OUTPUT_FOLDER = 'output_photos'\n",
    "ALLOWED_EXTENSIONS = ['.jpg', '.jpeg', '.png', '.gif', '.bmp', '.tiff']\n",
    "\n",
    "def organize_photos():\n",
    "    print(\"-\" * 50)\n",
    "    print(\"Starting The Ultimate Photo Organizer...\")\n",
    "    print(\"-\" * 50)\n",
    "\n",
    "    # ... (باقي الكود لا يحتاج أي تغيير)\n",
    "    if not os.path.exists(INPUT_FOLDER):\n",
    "        print(f\"ERROR: Input folder '{INPUT_FOLDER}' not found.\")\n",
    "        return\n",
    "    if not os.path.exists(OUTPUT_FOLDER):\n",
    "        os.makedirs(OUTPUT_FOLDER)\n",
    "\n",
    "    files_to_process = [f for f in os.listdir(INPUT_FOLDER) if os.path.isfile(os.path.join(INPUT_FOLDER, f))]\n",
    "    print(f\"Found {len(files_to_process)} files to process.\\n\")\n",
    "\n",
    "    for filename in files_to_process:\n",
    "        file_extension = os.path.splitext(filename)[1].lower()\n",
    "        if file_extension in ALLOWED_EXTENSIONS:\n",
    "            source_path = os.path.join(INPUT_FOLDER, filename)\n",
    "            category = classify_image(source_path)\n",
    "            \n",
    "            destination_folder = os.path.join(OUTPUT_FOLDER, category)\n",
    "            if not os.path.exists(destination_folder):\n",
    "                os.makedirs(destination_folder)\n",
    "            \n",
    "            destination_path = os.path.join(destination_folder, filename)\n",
    "            shutil.move(source_path, destination_path)\n",
    "            print(f\"MOVED: '{filename}'  >>  Category: {category}\")\n",
    "\n",
    "            # *** جزء الـ OCR ***\n",
    "            if category.lower() == 'documents':\n",
    "                print(f\"  -> Document detected. Performing OCR...\")\n",
    "                text_content = extract_text_from_image(destination_path)\n",
    "                if text_content.strip():\n",
    "                    # استخدام الدالة الجديدة بالاسم الجديد\n",
    "                    summary_name = create_safe_filename_from_text(text_content) \n",
    "                    text_filename = f\"{os.path.splitext(filename)[0]}_{summary_name}.txt\"\n",
    "                    text_file_path = os.path.join(destination_folder, text_filename)\n",
    "                    with open(text_file_path, 'w', encoding='utf-8') as f:\n",
    "                        f.write(text_content)\n",
    "                    print(f\"  -> OCR SUCCESS: Saved text to '{text_filename}'\")\n",
    "                else:\n",
    "                    print(f\"  -> OCR INFO: No text found in '{filename}'.\")\n",
    "        else:\n",
    "            print(f\"SKIPPED: '{filename}' (Not a recognized image file)\")\n",
    "\n",
    "    print(\"\\n\" + \"-\" * 50)\n",
    "    print(\"Organization complete!\")\n",
    "    print(\"-\" * 50)\n",
    "\n",
    "if __name__ == '__main__':\n",
    "    organize_photos()"
   ]
  }
 ],
 "metadata": {
  "kernelspec": {
   "display_name": "Python 3",
   "language": "python",
   "name": "python3"
  },
  "language_info": {
   "codemirror_mode": {
    "name": "ipython",
    "version": 3
   },
   "file_extension": ".py",
   "mimetype": "text/x-python",
   "name": "python",
   "nbconvert_exporter": "python",
   "pygments_lexer": "ipython3",
   "version": "3.13.5"
  }
 },
 "nbformat": 4,
 "nbformat_minor": 5
}
